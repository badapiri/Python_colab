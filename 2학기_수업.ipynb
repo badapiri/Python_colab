{
  "cells": [
    {
      "cell_type": "markdown",
      "metadata": {
        "id": "view-in-github",
        "colab_type": "text"
      },
      "source": [
        "<a href=\"https://colab.research.google.com/github/badapiri/Python_colab/blob/main/2%ED%95%99%EA%B8%B0_%EC%88%98%EC%97%85.ipynb\" target=\"_parent\"><img src=\"https://colab.research.google.com/assets/colab-badge.svg\" alt=\"Open In Colab\"/></a>"
      ]
    },
    {
      "cell_type": "code",
      "execution_count": null,
      "metadata": {
        "id": "SqTzxRcj1SYI"
      },
      "outputs": [],
      "source": [
        "#for(int i = 0 ; i < 10 ; i++)\n",
        "#range(10) = 0~9  ==  range(0,10) ==  range(0,10,1)  0~10전까지 +1 step\n",
        "for i in range(2, 20):\n",
        "    print(f'{i}단')\n",
        "    #1부터 10000까지 반복 출력\n",
        "    #1~10000\n",
        "    for k in range(1,20):\n",
        "        print(f'{i} * {k} = {i * k}', end='\\n')\n",
        "    print('')\n"
      ]
    },
    {
      "cell_type": "code",
      "source": [
        "``"
      ],
      "metadata": {
        "id": "vo9IuRaaduC6"
      },
      "execution_count": null,
      "outputs": []
    },
    {
      "cell_type": "code",
      "source": [],
      "metadata": {
        "id": "efr5kiNxcM6M"
      },
      "execution_count": null,
      "outputs": []
    },
    {
      "cell_type": "markdown",
      "metadata": {
        "id": "L-AU1QWjae1m"
      },
      "source": [
        "2*1\n",
        "2*2\n",
        "2*3\n",
        "2*4\n",
        ".\n",
        ".\n",
        "2*9\n"
      ]
    },
    {
      "cell_type": "code",
      "execution_count": null,
      "metadata": {
        "colab": {
          "base_uri": "https://localhost:8080/"
        },
        "id": "OAtpxJaDauui",
        "outputId": "9e5d2f03-cb9f-4e39-aee7-cc5adbf5fbc9"
      },
      "outputs": [
        {
          "name": "stdout",
          "output_type": "stream",
          "text": [
            "8\n",
            "8*1=8\n",
            "8*2=16\n",
            "8*3=24\n",
            "8*4=32\n",
            "8*5=40\n",
            "8*6=48\n",
            "8*7=56\n",
            "8*8=64\n",
            "8*9=72\n"
          ]
        }
      ],
      "source": [
        "#내가 입력한 단만 출력\n",
        "n = int(input())\n",
        "\n",
        "for k in range(1,10):  #1부터 9까지 하나씩 가져와서  k 변수에 저장\n",
        "    # 콜론(:) 을 찍어서 들여쓰기 = 반복하면서 할 일을 지정\n",
        "    print(f'{n}*{k}={n*k}')\n"
      ]
    },
    {
      "cell_type": "code",
      "execution_count": null,
      "metadata": {
        "id": "dcVNIi33eeMT"
      },
      "outputs": [],
      "source": [
        "for i in range(2,5):  #2~4까지\n",
        "    for k in range(1,10):  #1부터 9까지 하나씩 가져와서  k 변수에 저장\n",
        "    # 콜론(:) 을 찍어서 들여쓰기 = 반복하면서 할 일을 지정\n",
        "        print(f'{i}*{k}={i*k}')\n"
      ]
    },
    {
      "cell_type": "code",
      "execution_count": null,
      "metadata": {
        "id": "402lGGfegKMa"
      },
      "outputs": [],
      "source": []
    },
    {
      "cell_type": "markdown",
      "metadata": {
        "id": "y878fafkgLUh"
      },
      "source": [
        "2*1=2   3*1=3   ......9*1=9\n",
        "2*2=4"
      ]
    },
    {
      "cell_type": "code",
      "execution_count": null,
      "metadata": {
        "colab": {
          "base_uri": "https://localhost:8080/"
        },
        "id": "t1zzcjVKgU-p",
        "outputId": "8ec0cb63-fcec-4c66-e5d3-ec7e2dcbb456"
      },
      "outputs": [
        {
          "name": "stdout",
          "output_type": "stream",
          "text": [
            "2 * 1 = 2\t3 * 1 = 3\t4 * 1 = 4\t5 * 1 = 5\t6 * 1 = 6\t7 * 1 = 7\t8 * 1 = 8\t9 * 1 = 9\t10 * 1 = 10\t11 * 1 = 11\t12 * 1 = 12\t13 * 1 = 13\t14 * 1 = 14\t15 * 1 = 15\t16 * 1 = 16\t17 * 1 = 17\t18 * 1 = 18\t19 * 1 = 19\t\n",
            "2 * 2 = 4\t3 * 2 = 6\t4 * 2 = 8\t5 * 2 = 10\t6 * 2 = 12\t7 * 2 = 14\t8 * 2 = 16\t9 * 2 = 18\t10 * 2 = 20\t11 * 2 = 22\t12 * 2 = 24\t13 * 2 = 26\t14 * 2 = 28\t15 * 2 = 30\t16 * 2 = 32\t17 * 2 = 34\t18 * 2 = 36\t19 * 2 = 38\t\n",
            "2 * 3 = 6\t3 * 3 = 9\t4 * 3 = 12\t5 * 3 = 15\t6 * 3 = 18\t7 * 3 = 21\t8 * 3 = 24\t9 * 3 = 27\t10 * 3 = 30\t11 * 3 = 33\t12 * 3 = 36\t13 * 3 = 39\t14 * 3 = 42\t15 * 3 = 45\t16 * 3 = 48\t17 * 3 = 51\t18 * 3 = 54\t19 * 3 = 57\t\n",
            "2 * 4 = 8\t3 * 4 = 12\t4 * 4 = 16\t5 * 4 = 20\t6 * 4 = 24\t7 * 4 = 28\t8 * 4 = 32\t9 * 4 = 36\t10 * 4 = 40\t11 * 4 = 44\t12 * 4 = 48\t13 * 4 = 52\t14 * 4 = 56\t15 * 4 = 60\t16 * 4 = 64\t17 * 4 = 68\t18 * 4 = 72\t19 * 4 = 76\t\n",
            "2 * 5 = 10\t3 * 5 = 15\t4 * 5 = 20\t5 * 5 = 25\t6 * 5 = 30\t7 * 5 = 35\t8 * 5 = 40\t9 * 5 = 45\t10 * 5 = 50\t11 * 5 = 55\t12 * 5 = 60\t13 * 5 = 65\t14 * 5 = 70\t15 * 5 = 75\t16 * 5 = 80\t17 * 5 = 85\t18 * 5 = 90\t19 * 5 = 95\t\n",
            "2 * 6 = 12\t3 * 6 = 18\t4 * 6 = 24\t5 * 6 = 30\t6 * 6 = 36\t7 * 6 = 42\t8 * 6 = 48\t9 * 6 = 54\t10 * 6 = 60\t11 * 6 = 66\t12 * 6 = 72\t13 * 6 = 78\t14 * 6 = 84\t15 * 6 = 90\t16 * 6 = 96\t17 * 6 = 102\t18 * 6 = 108\t19 * 6 = 114\t\n",
            "2 * 7 = 14\t3 * 7 = 21\t4 * 7 = 28\t5 * 7 = 35\t6 * 7 = 42\t7 * 7 = 49\t8 * 7 = 56\t9 * 7 = 63\t10 * 7 = 70\t11 * 7 = 77\t12 * 7 = 84\t13 * 7 = 91\t14 * 7 = 98\t15 * 7 = 105\t16 * 7 = 112\t17 * 7 = 119\t18 * 7 = 126\t19 * 7 = 133\t\n",
            "2 * 8 = 16\t3 * 8 = 24\t4 * 8 = 32\t5 * 8 = 40\t6 * 8 = 48\t7 * 8 = 56\t8 * 8 = 64\t9 * 8 = 72\t10 * 8 = 80\t11 * 8 = 88\t12 * 8 = 96\t13 * 8 = 104\t14 * 8 = 112\t15 * 8 = 120\t16 * 8 = 128\t17 * 8 = 136\t18 * 8 = 144\t19 * 8 = 152\t\n",
            "2 * 9 = 18\t3 * 9 = 27\t4 * 9 = 36\t5 * 9 = 45\t6 * 9 = 54\t7 * 9 = 63\t8 * 9 = 72\t9 * 9 = 81\t10 * 9 = 90\t11 * 9 = 99\t12 * 9 = 108\t13 * 9 = 117\t14 * 9 = 126\t15 * 9 = 135\t16 * 9 = 144\t17 * 9 = 153\t18 * 9 = 162\t19 * 9 = 171\t\n",
            "2 * 10 = 20\t3 * 10 = 30\t4 * 10 = 40\t5 * 10 = 50\t6 * 10 = 60\t7 * 10 = 70\t8 * 10 = 80\t9 * 10 = 90\t10 * 10 = 100\t11 * 10 = 110\t12 * 10 = 120\t13 * 10 = 130\t14 * 10 = 140\t15 * 10 = 150\t16 * 10 = 160\t17 * 10 = 170\t18 * 10 = 180\t19 * 10 = 190\t\n",
            "2 * 11 = 22\t3 * 11 = 33\t4 * 11 = 44\t5 * 11 = 55\t6 * 11 = 66\t7 * 11 = 77\t8 * 11 = 88\t9 * 11 = 99\t10 * 11 = 110\t11 * 11 = 121\t12 * 11 = 132\t13 * 11 = 143\t14 * 11 = 154\t15 * 11 = 165\t16 * 11 = 176\t17 * 11 = 187\t18 * 11 = 198\t19 * 11 = 209\t\n",
            "2 * 12 = 24\t3 * 12 = 36\t4 * 12 = 48\t5 * 12 = 60\t6 * 12 = 72\t7 * 12 = 84\t8 * 12 = 96\t9 * 12 = 108\t10 * 12 = 120\t11 * 12 = 132\t12 * 12 = 144\t13 * 12 = 156\t14 * 12 = 168\t15 * 12 = 180\t16 * 12 = 192\t17 * 12 = 204\t18 * 12 = 216\t19 * 12 = 228\t\n",
            "2 * 13 = 26\t3 * 13 = 39\t4 * 13 = 52\t5 * 13 = 65\t6 * 13 = 78\t7 * 13 = 91\t8 * 13 = 104\t9 * 13 = 117\t10 * 13 = 130\t11 * 13 = 143\t12 * 13 = 156\t13 * 13 = 169\t14 * 13 = 182\t15 * 13 = 195\t16 * 13 = 208\t17 * 13 = 221\t18 * 13 = 234\t19 * 13 = 247\t\n",
            "2 * 14 = 28\t3 * 14 = 42\t4 * 14 = 56\t5 * 14 = 70\t6 * 14 = 84\t7 * 14 = 98\t8 * 14 = 112\t9 * 14 = 126\t10 * 14 = 140\t11 * 14 = 154\t12 * 14 = 168\t13 * 14 = 182\t14 * 14 = 196\t15 * 14 = 210\t16 * 14 = 224\t17 * 14 = 238\t18 * 14 = 252\t19 * 14 = 266\t\n",
            "2 * 15 = 30\t3 * 15 = 45\t4 * 15 = 60\t5 * 15 = 75\t6 * 15 = 90\t7 * 15 = 105\t8 * 15 = 120\t9 * 15 = 135\t10 * 15 = 150\t11 * 15 = 165\t12 * 15 = 180\t13 * 15 = 195\t14 * 15 = 210\t15 * 15 = 225\t16 * 15 = 240\t17 * 15 = 255\t18 * 15 = 270\t19 * 15 = 285\t\n",
            "2 * 16 = 32\t3 * 16 = 48\t4 * 16 = 64\t5 * 16 = 80\t6 * 16 = 96\t7 * 16 = 112\t8 * 16 = 128\t9 * 16 = 144\t10 * 16 = 160\t11 * 16 = 176\t12 * 16 = 192\t13 * 16 = 208\t14 * 16 = 224\t15 * 16 = 240\t16 * 16 = 256\t17 * 16 = 272\t18 * 16 = 288\t19 * 16 = 304\t\n",
            "2 * 17 = 34\t3 * 17 = 51\t4 * 17 = 68\t5 * 17 = 85\t6 * 17 = 102\t7 * 17 = 119\t8 * 17 = 136\t9 * 17 = 153\t10 * 17 = 170\t11 * 17 = 187\t12 * 17 = 204\t13 * 17 = 221\t14 * 17 = 238\t15 * 17 = 255\t16 * 17 = 272\t17 * 17 = 289\t18 * 17 = 306\t19 * 17 = 323\t\n",
            "2 * 18 = 36\t3 * 18 = 54\t4 * 18 = 72\t5 * 18 = 90\t6 * 18 = 108\t7 * 18 = 126\t8 * 18 = 144\t9 * 18 = 162\t10 * 18 = 180\t11 * 18 = 198\t12 * 18 = 216\t13 * 18 = 234\t14 * 18 = 252\t15 * 18 = 270\t16 * 18 = 288\t17 * 18 = 306\t18 * 18 = 324\t19 * 18 = 342\t\n",
            "2 * 19 = 38\t3 * 19 = 57\t4 * 19 = 76\t5 * 19 = 95\t6 * 19 = 114\t7 * 19 = 133\t8 * 19 = 152\t9 * 19 = 171\t10 * 19 = 190\t11 * 19 = 209\t12 * 19 = 228\t13 * 19 = 247\t14 * 19 = 266\t15 * 19 = 285\t16 * 19 = 304\t17 * 19 = 323\t18 * 19 = 342\t19 * 19 = 361\t\n"
          ]
        }
      ],
      "source": [
        "for k in range(1,20): #1 ~ 9\n",
        "    #2단~9단 옆으로 출력\n",
        "    for i in range(2,20):\n",
        "        print(f'{i} * {k} = {i*k}', end='\\t')\n",
        "    #엔터 한번\n",
        "    print()"
      ]
    },
    {
      "cell_type": "code",
      "execution_count": null,
      "metadata": {
        "colab": {
          "base_uri": "https://localhost:8080/"
        },
        "id": "uAzWWfhCqYak",
        "outputId": "e0e87bfb-bcd6-4135-f533-e841c5b0abdc"
      },
      "outputs": [
        {
          "name": "stdout",
          "output_type": "stream",
          "text": [
            "1\t2\t3\t4\t5\t6\t\n",
            "7\t8\t9\t10\t11\t12\t\n",
            "13\t14\t15\t16\t17\t18\t\n",
            "19\t20\t21\t22\t23\t24\t\n"
          ]
        }
      ],
      "source": [
        "rows = 4 #가로줄\n",
        "cols = 6 #세로줄\n",
        "\n",
        "for i  in range(rows):\n",
        "    for k in range(cols):\n",
        "        print(f'{i*cols + k + 1}', end='\\t')\n",
        "\n",
        "    #4번 반복이 끝나는 시점\n",
        "    #들여쓰기 나옴\n",
        "    print()"
      ]
    },
    {
      "cell_type": "code",
      "execution_count": null,
      "metadata": {
        "colab": {
          "base_uri": "https://localhost:8080/"
        },
        "id": "-UQT5QUMCs28",
        "outputId": "5a0a076e-6e6d-4c1a-974f-50a122c7db34"
      },
      "outputs": [
        {
          "name": "stdout",
          "output_type": "stream",
          "text": [
            "가로줄을 입력하세요5\n",
            "세로줄을 입력하세요6\n",
            "X\tX\tX\t박현지\t고현준\tX\t\n",
            "김규민\tX\t신보경\tX\t박민지\tX\t\n",
            "X\tX\tX\t김민성\t김서빈\tX\t\n",
            "유승찬\t김지민\tX\tX\tX\tX\t\n",
            "곽권\t김민후\tX\t박진우\t양현욱\tX\t\n"
          ]
        }
      ],
      "source": [
        "import random\n",
        "rows = int(input('가로줄을 입력하세요'))\n",
        "cols = int(input('세로줄을 입력하세요'))\n",
        "\n",
        "#4 * 6 = 24명 칸 준비\n",
        "\n",
        "#실제 학생수가 24 보다 클수도 있고, 작을 수도 있음..\n",
        "#만약 24보다 크다면 어떻할래? 지금은 가정하지 않겠음..\n",
        "#만약 적으면...없는 자리를 X로 표시해서 24를 무조건 만들겠음.\n",
        "\n",
        "student = ['고현준','곽권','김규민','김민성','김민후','김서빈','김지민','박민지','박진우','박현지','신보경','양현욱','유승찬']\n",
        "#student를 무조건 24명으로 만들어 버림(없는자리는 X로 해서)\n",
        "#현재 13명 있음. 어떻게 24로 만들까?  현재가 만약 n명이라면??\n",
        "#현재가 몇명인지 알 수 있음??\n",
        "# len(student)  = 현재 인원\n",
        "# student.append('X')  하면 한명 추가\n",
        "empty = cols* rows - 13\n",
        "for i in range(empty):\n",
        "#while(len(student) < cols* rows):\n",
        "    student.append('X')\n",
        "    #부족한 만큼 X를 채움\n",
        "\n",
        "\n",
        "\n",
        "random.shuffle(student)\n",
        "\n",
        "\n",
        "cnt = 0\n",
        "for i in range(rows):\n",
        "    for k  in range(cols):\n",
        "        print(f'{student[cnt]}', end='\\t')\n",
        "        cnt = cnt + 1\n",
        "    print()\n"
      ]
    },
    {
      "cell_type": "markdown",
      "metadata": {
        "id": "WJN2ipGDFa5u"
      },
      "source": []
    },
    {
      "cell_type": "code",
      "execution_count": null,
      "metadata": {
        "id": "mdw69FuA9iuc"
      },
      "outputs": [],
      "source": []
    },
    {
      "cell_type": "code",
      "execution_count": null,
      "metadata": {
        "colab": {
          "base_uri": "https://localhost:8080/"
        },
        "id": "z6KiJ9Ti8jJt",
        "outputId": "0a6a5c00-6f4d-491b-db72-4b0138bf2cd0"
      },
      "outputs": [
        {
          "name": "stdout",
          "output_type": "stream",
          "text": [
            "*****\n",
            "*****\n",
            "*****\n"
          ]
        }
      ],
      "source": [
        "for i in range(3):\n",
        "    for k in range(5):\n",
        "        print(f'*', end='')\n",
        "    print('')"
      ]
    },
    {
      "cell_type": "code",
      "execution_count": null,
      "metadata": {
        "colab": {
          "base_uri": "https://localhost:8080/"
        },
        "id": "dP5gweIS-R8t",
        "outputId": "9d5a7e49-25c2-43b2-bf14-b7894bb9ee12"
      },
      "outputs": [
        {
          "name": "stdout",
          "output_type": "stream",
          "text": [
            "*\n",
            "**\n",
            "***\n",
            "****\n",
            "*****\n"
          ]
        }
      ],
      "source": [
        "for i in range(5):\n",
        "    for k in range(i+1):\n",
        "        print(f'*', end='')\n",
        "    print('')"
      ]
    },
    {
      "cell_type": "code",
      "execution_count": null,
      "metadata": {
        "colab": {
          "base_uri": "https://localhost:8080/"
        },
        "id": "hqWjvs5R-_Bn",
        "outputId": "b5fd5ebe-f130-4a78-9eb2-e5f29d28dd9a"
      },
      "outputs": [
        {
          "name": "stdout",
          "output_type": "stream",
          "text": [
            "행번호 입력10\n",
            "*\n",
            "**\n",
            "***\n",
            "****\n",
            "*****\n",
            "******\n",
            "*******\n",
            "********\n",
            "*********\n",
            "**********\n"
          ]
        }
      ],
      "source": [
        "#행번호 i를 입력받아 별을 출력하는 코드\n",
        "rows = int(input('행번호 입력'))\n",
        "for i in range(rows):\n",
        "    for k in range(i+1):\n",
        "        print(f'*', end='')\n",
        "    print('')"
      ]
    },
    {
      "cell_type": "code",
      "execution_count": null,
      "metadata": {
        "colab": {
          "base_uri": "https://localhost:8080/"
        },
        "id": "NWqti4joBKED",
        "outputId": "b4a273ee-9aa4-49dc-af93-90303a42540d"
      },
      "outputs": [
        {
          "name": "stdout",
          "output_type": "stream",
          "text": [
            "행입력5\n",
            "*****\n",
            "****\n",
            "***\n",
            "**\n",
            "*\n"
          ]
        }
      ],
      "source": [
        "rows = int(input('행입력'))\n",
        "for i in range(rows):\n",
        "    for k in range(rows-i):\n",
        "        print(f'*', end = '')\n",
        "    print()\n"
      ]
    },
    {
      "cell_type": "code",
      "execution_count": null,
      "metadata": {
        "colab": {
          "base_uri": "https://localhost:8080/"
        },
        "id": "IrEbUvX6DI80",
        "outputId": "2e1f54e3-5c38-4d86-f7c6-43b502291051"
      },
      "outputs": [
        {
          "name": "stdout",
          "output_type": "stream",
          "text": [
            "행입력5\n",
            "____*\n",
            "___**\n",
            "__***\n",
            "_****\n",
            "*****\n"
          ]
        }
      ],
      "source": [
        "rows = int(input('행입력'))\n",
        "for i in range(rows):\n",
        "    for k in range(rows-i-1):  #5 - 0 - 1 = 4\n",
        "        print(f'_', end='')\n",
        "    for k in range(i+1):\n",
        "        print(f'*', end ='')\n",
        "    print('')"
      ]
    },
    {
      "cell_type": "code",
      "execution_count": null,
      "metadata": {
        "colab": {
          "base_uri": "https://localhost:8080/"
        },
        "id": "DudFSexwk4xj",
        "outputId": "4409e8ae-d017-4d7a-c59d-6b977b88fd3c"
      },
      "outputs": [
        {
          "name": "stdout",
          "output_type": "stream",
          "text": [
            "-1-1-1-1-1-1\n",
            "222222\n",
            "-3-3-3-3-3-3\n",
            "444444\n",
            "-5-5-5-5-5-5\n"
          ]
        }
      ],
      "source": [
        "sw = -1\n",
        "\n",
        "for i in range(1,6):  #i =  0 ~ 4\n",
        "    for k in range(6):\n",
        "        print(f'{i * sw}', end='')  #000000\n",
        "    sw = sw * -1\n",
        "    print() #다음줄 이동\n"
      ]
    },
    {
      "cell_type": "code",
      "execution_count": null,
      "metadata": {
        "colab": {
          "base_uri": "https://localhost:8080/"
        },
        "id": "lMyy7faArAKb",
        "outputId": "2f546c1a-4ddf-4992-ef67-0c79d76a01a5"
      },
      "outputs": [
        {
          "name": "stdout",
          "output_type": "stream",
          "text": [
            "줄 개수를 입력(홀수)7\n",
            "0008000\n",
            "0088800\n",
            "0888880\n",
            "8888888\n",
            "0888880\n",
            "0088800\n",
            "0008000\n"
          ]
        }
      ],
      "source": [
        "rows = int(input('줄 개수를 입력(홀수)'))\n",
        "\n",
        "#7이라면 4번 반복\n",
        "loop = int(rows/2) + 1\n",
        "star = 1\n",
        "zero = int(rows/2)\n",
        "sw = 1\n",
        "\n",
        "for i in range(rows):\n",
        "    for k in range(zero):\n",
        "        print(f'0', end='')\n",
        "    for k in range(star):\n",
        "        print(f'8', end='')\n",
        "    for k in range(zero):\n",
        "        print(f'0', end='')\n",
        "    print()\n",
        "\n",
        "    if i == loop -1 : #절반에 도착했다면  sw를 바꿔라\n",
        "        sw = sw * -1\n",
        "    star = star + (2 * sw)  #1개->3개\n",
        "    zero = zero - (1 * sw)  #3개->2개\n",
        "\n"
      ]
    },
    {
      "cell_type": "code",
      "execution_count": null,
      "metadata": {
        "colab": {
          "base_uri": "https://localhost:8080/"
        },
        "id": "y0er_12zFmR3",
        "outputId": "c4abfd51-6fea-4bdf-8fe5-c1446a720f9f"
      },
      "outputs": [
        {
          "name": "stdout",
          "output_type": "stream",
          "text": [
            "1\t2\t3\t4\t5\t6\t7\t\n",
            "8\t9\t10\t11\t12\t13\t14\t\n",
            "15\t16\t17\t18\t19\t20\t21\t\n",
            "22\t23\t24\t25\t26\t27\t28\t\n",
            "29\t30\t31\t32\t33\t34\t35\t\n"
          ]
        }
      ],
      "source": [
        "# 1 2 3 4 5 6 7\n",
        "# 8 ~~~~~~    14\n",
        "# .........   35\n",
        "\n",
        "# number = 1\n",
        "\n",
        "for i in range(1,6): #   1~5   =>    0~4?\n",
        "    for k in range(1,8): #    1~7  =>  0~6?\n",
        "        # i,k를 이용하여 1~35 까지 출력\n",
        "        print(f'{(i-1)*7 + k }', end='\\t')\n",
        "        # print(f'{number}' , end='\\t')\n",
        "        # number = number + 1  # number += 1\n",
        "    print()\n"
      ]
    },
    {
      "cell_type": "code",
      "execution_count": null,
      "metadata": {
        "colab": {
          "base_uri": "https://localhost:8080/"
        },
        "id": "D7Km2kEEMfiI",
        "outputId": "6423d8ac-c460-4ef1-d0fd-4f24940ecb4f"
      },
      "outputs": [
        {
          "name": "stdout",
          "output_type": "stream",
          "text": [
            "1\t\n",
            "2\t3\t\n",
            "4\t5\t6\t\n",
            "7\t8\t9\t10\t\n",
            "11\t12\t13\t14\t15\t\n"
          ]
        }
      ],
      "source": [
        "#1\n",
        "#2  3\n",
        "#4  5   6\n",
        "#7  8   9   10\n",
        "#11 12  13  14  15\n",
        "#5번 반복 (1번, 2번, 3번, 4번, 5번)\n",
        "num = 1\n",
        "for i in range(1,6):\n",
        "    for k in range(i):\n",
        "        print(f'{num}', end ='\\t')\n",
        "        num = num + 1\n",
        "    print()"
      ]
    },
    {
      "cell_type": "code",
      "execution_count": null,
      "metadata": {
        "colab": {
          "base_uri": "https://localhost:8080/"
        },
        "id": "TDd5fXFPnd1h",
        "outputId": "7c1d4c46-2afe-457c-a3c6-c4b9ce51a463"
      },
      "outputs": [
        {
          "name": "stdout",
          "output_type": "stream",
          "text": [
            "[1, 2, 3, 4, 1]\n",
            "[2, 3, 4, 1]\n",
            "[2, 3, 4]\n",
            "[2, 5, 3, 4]\n"
          ]
        }
      ],
      "source": [
        "#배열 ㄴㄴ =>  리스트\n",
        "list = [] #비어있음\n",
        "list = [1,2,3,4]\n",
        "\n",
        "list2 = ['a',1,2,3]  #다른 자료형도 사용할 수 있음\n",
        "list2.append(4)  # append 이용하여 마지막 항목 추가\n",
        "list2.remove('a') # remove는 항목을 검색해서 삭제\n",
        "#print(list2)\n",
        "\n",
        "list2.append(1)  # [1,2,3,4,1]\n",
        "print(list2)\n",
        "list2.remove(1)  #  누가 삭제 될까? => 앞에 있는 값이 삭제\n",
        "print(list2) # 2,3,4,1\n",
        "\n",
        "list2.pop()  #항상 마지막 항이 삭제\n",
        "print(list2)  #[2,3,4]\n",
        "\n",
        "list2.insert(1, 5)  #1번지에 5\n",
        "print(list2)  #2,5,3,4??\n"
      ]
    },
    {
      "cell_type": "code",
      "execution_count": null,
      "metadata": {
        "colab": {
          "base_uri": "https://localhost:8080/"
        },
        "id": "G8iTGIFcr1zR",
        "outputId": "2166c0d0-e472-4c9c-b613-68dd8a4cb472"
      },
      "outputs": [
        {
          "name": "stdout",
          "output_type": "stream",
          "text": [
            "현재상태 : []\n",
            "동작을 입력하세요 1.삭제 2.삽입 3.종료2\n",
            "값을 입력하세요5\n",
            "현재상태 : ['5']\n",
            "동작을 입력하세요 1.삭제 2.삽입 3.종료2\n",
            "값을 입력하세요하하하\n",
            "현재상태 : ['5', '하하하']\n",
            "동작을 입력하세요 1.삭제 2.삽입 3.종료1\n",
            "현재상태 : ['5']\n",
            "동작을 입력하세요 1.삭제 2.삽입 3.종료2\n",
            "값을 입력하세요123\n",
            "현재상태 : ['5', '123']\n",
            "동작을 입력하세요 1.삭제 2.삽입 3.종료2\n",
            "값을 입력하세요1234\n",
            "현재상태 : ['5', '123', '1234']\n",
            "동작을 입력하세요 1.삭제 2.삽입 3.종료3\n"
          ]
        }
      ],
      "source": [
        "list = []\n",
        "def pop():  #값을 꺼낼 때 기능\n",
        "    if len(list) > 0:    #list의 길이를 검사\n",
        "        list.pop()\n",
        "    else: #길이가 0\n",
        "        print('비어있습니다.')\n",
        "\n",
        "def push(value):  #값을 추가할 때 기능\n",
        "    list.append(value)\n",
        "\n",
        "while(True):\n",
        "    print(a)\n",
        "    print(f'현재상태 : {list}')\n",
        "    select = input('동작을 입력하세요 1.삭제 2.삽입 3.종료')\n",
        "    if select == '1': #삭제\n",
        "        pop()\n",
        "    elif select == '2': #추가\n",
        "        val = input('값을 입력하세요')\n",
        "        push(val)\n",
        "    elif select == '3': #종료\n",
        "        break\n",
        "    else:\n",
        "        print('1,2,3 중 선택')"
      ]
    },
    {
      "cell_type": "code",
      "execution_count": null,
      "metadata": {
        "colab": {
          "background_save": true,
          "base_uri": "https://localhost:8080/"
        },
        "id": "gU_d1GC3vpyZ",
        "outputId": "3b247480-0582-4d23-813f-ade97384e4d0"
      },
      "outputs": [
        {
          "name": "stdout",
          "output_type": "stream",
          "text": [
            "list :\n",
            "이정환\t반가워\tlist :\n",
            "이정환\tlist :\n",
            "이정환\tㅁㄴㅇ\tㅁㄴㅇ\tㅁㄴㅇ\tㅁㄴㅇ\tlist :\n",
            "이정환\tㅁㄴㅇ\tㅁㄴㅇ\tㅁㄴㅇ\tㅁㄴㅇ\tㅁ\tㅁ\tㅁㅇㅁㄴ\tㅁㄴㅇㅁㄹ\t배열이 가득 찼습니다.\n",
            "값이 없습니다. 텅텅텅\n"
          ]
        }
      ],
      "source": [
        "#배열의 크기를 정하고, append, pop 없이 구현\n",
        "\n",
        "global pos, size  #global 을 선언을 먼저해야 함수에서 같이 사용할 수 있음.\n",
        "size = int(input('배열의 크기를 입력하세요'))\n",
        "list = []\n",
        "\n",
        "pos = -1 #아무것도 지정되지 않음\n",
        "\n",
        "for i in range(size):\n",
        "    list.append(0) #0으로 초기화 [0,0,0....0]\n",
        "\n",
        "def pop():\n",
        "    global pos #함수 밖에서 선언한 pos 변수 사용\n",
        "    if pos > -1 : #하나라도 있다면 꺼내기 => 0으로 표현\n",
        "        list[pos] = 0\n",
        "        pos = pos -1  #위치를 하나 아래로 설정\n",
        "    else:\n",
        "        print('값이 없습니다. 텅텅텅')\n",
        "\n",
        "def push(value):\n",
        "    global pos, size\n",
        "    if pos >= size - 1:   # 마지막 상황에서   9 >= 10 -1\n",
        "        print('배열이 가득 찼습니다.')\n",
        "    else:\n",
        "        pos = pos + 1\n",
        "        list[pos] = value\n",
        "\n",
        "def show():\n",
        "    global pos\n",
        "    print(f'list :')\n",
        "    for i in range(pos+1):\n",
        "        print(f'{list[i]}', end='\\t')\n",
        "\n",
        "while(True):\n",
        "    # print(f'pos : {pos}')\n",
        "    sel = input('동작을 입력하세요 1.pop 2.push 3.show')\n",
        "    if sel == '1':\n",
        "        pop()\n",
        "    elif sel == '2':\n",
        "        val = input('값을 입력하세요')\n",
        "        push(val)\n",
        "    elif sel == '3':\n",
        "        show()\n",
        "    else:\n",
        "        print('다시 선택하세요.')\n",
        "\n"
      ]
    },
    {
      "cell_type": "code",
      "execution_count": null,
      "metadata": {
        "id": "pfLDguBa8dEI",
        "colab": {
          "base_uri": "https://localhost:8080/"
        },
        "outputId": "c179cb16-482c-4d21-80b5-216949e9ff3b"
      },
      "outputs": [
        {
          "output_type": "stream",
          "name": "stdout",
          "text": [
            "8\n"
          ]
        }
      ],
      "source": [
        "list = [\n",
        "    [1,2,3],\n",
        "    [4,5,6],\n",
        "    [7,8,3]\n",
        "]\n",
        "print(list[2][1])"
      ]
    },
    {
      "cell_type": "code",
      "source": [
        "arr = [1,2,3]\n",
        "list = [arr, arr, arr]  #   [ [123] [123] [123] ]\n",
        "print(list)\n",
        "\n",
        "arr.append(4)  #arr [1,2,3,4]\n",
        "print(list)\n",
        "\n",
        "#참조에 의한 호출이기 때문에 list의 값도 같이 변경이 됨"
      ],
      "metadata": {
        "colab": {
          "base_uri": "https://localhost:8080/"
        },
        "id": "6iMmOsS7J2Hy",
        "outputId": "2c2b5f5e-eb57-4f58-adf6-b3b9a787260a"
      },
      "execution_count": null,
      "outputs": [
        {
          "output_type": "stream",
          "name": "stdout",
          "text": [
            "[[1, 2, 3], [1, 2, 3], [1, 2, 3]]\n",
            "[[1, 2, 3, 4], [1, 2, 3, 4], [1, 2, 3, 4]]\n"
          ]
        }
      ]
    },
    {
      "cell_type": "code",
      "source": [
        "studentA = [100, 80, 80, 90]  #과목1234\n",
        "studentB = {\n",
        "            'math':80,\n",
        "            'korean':100,\n",
        "\n",
        "            'eng': 80,\n",
        "            'info':90\n",
        "            } #dictionary 형식   'key': 'value'의 조합으로 이루어짐.\n",
        "print(studentA[0])  #국어성적\n",
        "print(studentB['korean'])\n",
        "\n",
        "#B학생에게 jpn 성적 100점 추가\n",
        "studentA.append(100)\n",
        "studentB['jpn'] = 100\n",
        "print(studentB)\n",
        "\n",
        "print(*studentB.keys())\n",
        "\n",
        "flag = False  #과학찾기\n",
        "\n",
        "for k in studentB.keys():\n",
        "    if k == 'sci':\n",
        "        flag =True\n",
        "if flag  == True:\n",
        "    print('과학있음')\n",
        "else:\n",
        "    print('과학없음')\n",
        "\n",
        "\n",
        "#과학이 없음 이라고 출력하고 싶으면 어떻게??\n",
        "\n",
        "\n",
        "if 'sci' in studentB: #key 검사\n",
        "    print('과학 진짜 있음')\n",
        "else:\n",
        "    print('과학 진짜 없음')\n",
        "\n"
      ],
      "metadata": {
        "colab": {
          "base_uri": "https://localhost:8080/"
        },
        "id": "MtENcjUYLMUy",
        "outputId": "4e616305-645b-416a-d926-7f5c9b48d032"
      },
      "execution_count": null,
      "outputs": [
        {
          "output_type": "stream",
          "name": "stdout",
          "text": [
            "100\n",
            "100\n",
            "{'math': 80, 'korean': 100, 'eng': 80, 'info': 90, 'jpn': 100}\n",
            "math korean eng info jpn\n",
            "과학없음\n",
            "과학 진짜 없음\n"
          ]
        }
      ]
    },
    {
      "cell_type": "code",
      "source": [
        "size = 5\n",
        "for i in range(size):\n",
        "    for k in range(size-i):\n",
        "        print(f'*', end='')\n",
        "    print()"
      ],
      "metadata": {
        "colab": {
          "base_uri": "https://localhost:8080/"
        },
        "id": "BqZ3ZmwmrRWw",
        "outputId": "efb0b499-22d2-4714-c943-82e9b7b73ee4"
      },
      "execution_count": null,
      "outputs": [
        {
          "output_type": "stream",
          "name": "stdout",
          "text": [
            "*****\n",
            "****\n",
            "***\n",
            "**\n",
            "*\n"
          ]
        }
      ]
    },
    {
      "cell_type": "code",
      "source": [
        "size = int(input('줄 수'))\n",
        "star = 1\n",
        "for i in range(size):\n",
        "    for k in range(size-i-1):\n",
        "        print(f' ', end='')\n",
        "    for k in range(star):\n",
        "        print(f'*', end='')\n",
        "\n",
        "    #for k in range(i*2 + 1):\n",
        "        #print(f'*', end='')\n",
        "    star = star + 2\n",
        "    print()"
      ],
      "metadata": {
        "colab": {
          "base_uri": "https://localhost:8080/"
        },
        "id": "9svWNQhttfv4",
        "outputId": "bb548a99-9459-4b2c-b30c-c991f069a25a"
      },
      "execution_count": null,
      "outputs": [
        {
          "output_type": "stream",
          "name": "stdout",
          "text": [
            "줄 수10\n",
            "         *\n",
            "        ***\n",
            "       *****\n",
            "      *******\n",
            "     *********\n",
            "    ***********\n",
            "   *************\n",
            "  ***************\n",
            " *****************\n",
            "*******************\n"
          ]
        }
      ]
    },
    {
      "cell_type": "code",
      "source": [
        "#소수판별 = 1과 자신을 제외한 수 중에 나누어지지 않는 수(단, 2이상)\n",
        "\n",
        "number = int(input('숫자입력'))\n",
        "\n",
        "for n in range(2, number+1):\n",
        "    is_prime = True\n",
        "    for k in range(2, n):\n",
        "        if n % k == 0:\n",
        "            #print('소수가 아닙니다.')\n",
        "            is_prime = False\n",
        "            break\n",
        "\n",
        "    if is_prime == True:\n",
        "        print(n)"
      ],
      "metadata": {
        "colab": {
          "base_uri": "https://localhost:8080/"
        },
        "id": "Bk1mNUVuwIGI",
        "outputId": "2474ccfc-43a1-45a8-a55d-c8bcc03bf3de"
      },
      "execution_count": null,
      "outputs": [
        {
          "output_type": "stream",
          "name": "stdout",
          "text": [
            "숫자입력100\n",
            "2\n",
            "3\n",
            "5\n",
            "7\n",
            "11\n",
            "13\n",
            "17\n",
            "19\n",
            "23\n",
            "29\n",
            "31\n",
            "37\n",
            "41\n",
            "43\n",
            "47\n",
            "53\n",
            "59\n",
            "61\n",
            "67\n",
            "71\n",
            "73\n",
            "79\n",
            "83\n",
            "89\n",
            "97\n"
          ]
        }
      ]
    },
    {
      "cell_type": "code",
      "source": [
        "n = int(input())\n",
        "\n",
        "for number in  range(1,n+1):\n",
        "    is_jjak = False\n",
        "    i = number\n",
        "    while(number > 0):\n",
        "        d = number % 10\n",
        "        if d == 3 or d == 6 or d == 9:\n",
        "            print('짝!')\n",
        "            is_jjak = True\n",
        "            break\n",
        "        number = int(number / 10 )\n",
        "    if is_jjak == False:\n",
        "        print(i)\n",
        "\n"
      ],
      "metadata": {
        "colab": {
          "base_uri": "https://localhost:8080/"
        },
        "id": "VDp8mfEU6Tp5",
        "outputId": "01f71f61-af0a-4669-8dfa-8756f80bed16"
      },
      "execution_count": null,
      "outputs": [
        {
          "output_type": "stream",
          "name": "stdout",
          "text": [
            "50\n",
            "1\n",
            "2\n",
            "짝!\n",
            "4\n",
            "5\n",
            "짝!\n",
            "7\n",
            "8\n",
            "짝!\n",
            "10\n",
            "11\n",
            "12\n",
            "짝!\n",
            "14\n",
            "15\n",
            "짝!\n",
            "17\n",
            "18\n",
            "짝!\n",
            "20\n",
            "21\n",
            "22\n",
            "짝!\n",
            "24\n",
            "25\n",
            "짝!\n",
            "27\n",
            "28\n",
            "짝!\n",
            "짝!\n",
            "짝!\n",
            "짝!\n",
            "짝!\n",
            "짝!\n",
            "짝!\n",
            "짝!\n",
            "짝!\n",
            "짝!\n",
            "짝!\n",
            "40\n",
            "41\n",
            "42\n",
            "짝!\n",
            "44\n",
            "45\n",
            "짝!\n",
            "47\n",
            "48\n",
            "짝!\n",
            "50\n"
          ]
        }
      ]
    },
    {
      "cell_type": "code",
      "source": [
        "n = int(input())\n",
        "\n",
        "for i in  range(1, n+1):\n",
        "    if str(i).count('3') > 0 or  str(i).count('6') > 0   or str(i).count('9') > 0  :\n",
        "        print('짝')\n",
        "    else :\n",
        "        print(i)"
      ],
      "metadata": {
        "colab": {
          "base_uri": "https://localhost:8080/"
        },
        "id": "mOw5iBAP_TvT",
        "outputId": "17bc3054-8c5f-441c-8e0b-20b1d4d47b46"
      },
      "execution_count": null,
      "outputs": [
        {
          "output_type": "stream",
          "name": "stdout",
          "text": [
            "29\n",
            "1\n",
            "2\n",
            "짝\n",
            "4\n",
            "5\n",
            "짝\n",
            "7\n",
            "8\n",
            "짝\n",
            "10\n",
            "11\n",
            "12\n",
            "짝\n",
            "14\n",
            "15\n",
            "짝\n",
            "17\n",
            "18\n",
            "짝\n",
            "20\n",
            "21\n",
            "22\n",
            "짝\n",
            "24\n",
            "25\n",
            "짝\n",
            "27\n",
            "28\n",
            "짝\n"
          ]
        }
      ]
    },
    {
      "cell_type": "code",
      "source": [
        "list = [2,-34,65,-7,1,34,-31,32]\n",
        "\n",
        "start = 0\n",
        "end = 3\n",
        "total = 0\n",
        "\n",
        "for i in range(start, end+1):\n",
        "    total = total + list[i]  # 기존의 total에 새로운 값을 계속 누적\n",
        "\n",
        "print(total)\n",
        "\n",
        "print( sum(list[start : end+1])  )"
      ],
      "metadata": {
        "colab": {
          "base_uri": "https://localhost:8080/"
        },
        "id": "ngjtmoeOOKJ1",
        "outputId": "82d42b9e-5b8a-4410-8205-0ba329777093"
      },
      "execution_count": null,
      "outputs": [
        {
          "output_type": "stream",
          "name": "stdout",
          "text": [
            "26\n",
            "26\n"
          ]
        }
      ]
    },
    {
      "cell_type": "code",
      "source": [
        "# 연속된 범위를 선택했을 때 최대합은 얼마일까?\n",
        "\n",
        "arr = arr = list(map(int,input().split()))\n",
        "#2 -34 65 -7 1 34 -31 32 입력\n",
        "\n",
        "# https://code.juwon.info/problem.php?id=1138\n",
        "\n",
        "total = -99999999999\n",
        "\n",
        "for i in range(0, len(arr)):\n",
        "    for k in range(i, len(arr)):\n",
        "        total = max(total, sum(arr[i : k+1]))  #max(엑셀과 같음. 항목 중 최대값 반환)\n",
        "\n",
        "print(total)"
      ],
      "metadata": {
        "colab": {
          "base_uri": "https://localhost:8080/"
        },
        "id": "a9HJlZR6QqBL",
        "outputId": "55d2dd7a-ac48-400a-d682-f07bbb42aee3"
      },
      "execution_count": null,
      "outputs": [
        {
          "output_type": "stream",
          "name": "stdout",
          "text": [
            "2 -34 65 -7 1 34 -31 32\n",
            "94\n"
          ]
        }
      ]
    },
    {
      "cell_type": "code",
      "source": [
        "arr = [2, -34, 65, -7, 1 ,34, -31, 32]\n",
        "\n",
        "print(arr)\n",
        "for k in range(1, len(arr)):\n",
        "    arr[k] = max(arr[k],  arr[k] + arr[k-1])\n",
        "    print(arr)\n",
        "\n",
        "print(f'result : {arr[7]}')\n"
      ],
      "metadata": {
        "colab": {
          "base_uri": "https://localhost:8080/"
        },
        "id": "JNxOy4CK4duK",
        "outputId": "afb031d7-7dac-4f22-eac6-0208aad278fa"
      },
      "execution_count": null,
      "outputs": [
        {
          "output_type": "stream",
          "name": "stdout",
          "text": [
            "[2, -34, 65, -7, 1, 34, -31, 32]\n",
            "[2, -32, 65, -7, 1, 34, -31, 32]\n",
            "[2, -32, 65, -7, 1, 34, -31, 32]\n",
            "[2, -32, 65, 58, 1, 34, -31, 32]\n",
            "[2, -32, 65, 58, 59, 34, -31, 32]\n",
            "[2, -32, 65, 58, 59, 93, -31, 32]\n",
            "[2, -32, 65, 58, 59, 93, 62, 32]\n",
            "[2, -32, 65, 58, 59, 93, 62, 94]\n",
            "result : 94\n"
          ]
        }
      ]
    },
    {
      "cell_type": "code",
      "source": [
        "# 1~10까지 출력 단 반복문을 이용하지 않고\n",
        "def show(n):\n",
        "    print(n)\n",
        "    if n < 10 :\n",
        "        show(n+1)\n",
        "    else:\n",
        "        return\n",
        "\n",
        "show(1)\n"
      ],
      "metadata": {
        "colab": {
          "base_uri": "https://localhost:8080/"
        },
        "id": "cHSRydur9psp",
        "outputId": "3a496eb1-ce2d-4597-f27e-823f2511748b"
      },
      "execution_count": null,
      "outputs": [
        {
          "output_type": "stream",
          "name": "stdout",
          "text": [
            "1\n",
            "2\n",
            "3\n",
            "4\n",
            "5\n",
            "6\n",
            "7\n",
            "8\n",
            "9\n",
            "10\n"
          ]
        }
      ]
    },
    {
      "cell_type": "code",
      "source": [
        "#  5! = 5 * 4 * 3 * 2 * 1\n",
        "# 재귀호출 : 내가 나를 부르는 호출방법\n",
        "# \t         이전 단계가 다 끝나야 내가 끝날 수 있음.\n",
        "def fact(n):\n",
        "    if n == 1:\n",
        "        return 1\n",
        "    else:\n",
        "        return n * fact(n-1)\n",
        "\n",
        "\n",
        "\n",
        "print(fact(5 )      ) # 120"
      ],
      "metadata": {
        "colab": {
          "base_uri": "https://localhost:8080/"
        },
        "id": "QJtQL3nFDXQ4",
        "outputId": "edb71866-fa1c-4908-a497-ca69548116bb"
      },
      "execution_count": null,
      "outputs": [
        {
          "output_type": "stream",
          "name": "stdout",
          "text": [
            "120\n"
          ]
        }
      ]
    },
    {
      "cell_type": "code",
      "source": [
        "#파이썬에서는 함수를 def라고 선언, 중괄호가 없음(들여쓰기와 콜론:으로 구별)\n",
        "\n",
        "def go(step):\n",
        "\n",
        "    if step > 10 :\n",
        "        return\n",
        "    print(step)\n",
        "    go(step+1)\n",
        "\n",
        "\n",
        "\n",
        "\n",
        "\n",
        "go(1)"
      ],
      "metadata": {
        "colab": {
          "base_uri": "https://localhost:8080/"
        },
        "id": "yM4PjtBvcPFJ",
        "outputId": "9cd2c903-6490-42e6-8c33-f42575df0cd6"
      },
      "execution_count": null,
      "outputs": [
        {
          "output_type": "stream",
          "name": "stdout",
          "text": [
            "1\n",
            "2\n",
            "3\n",
            "4\n",
            "5\n",
            "6\n",
            "7\n",
            "8\n",
            "9\n",
            "10\n"
          ]
        }
      ]
    },
    {
      "cell_type": "code",
      "source": [
        "arr = [\n",
        "    [1, 1, 0, 0],\n",
        "    [0, 1, 1, 0],\n",
        "    [0, 1, 0, 0],\n",
        "    [0, 1, 1, 1]\n",
        "]\n",
        "\n",
        "def start(x, y):\n",
        "    global arr  # arr을 전역 변수로 선언\n",
        "    print(f'now {x}, {y}')\n",
        "    if x == 3 and y == 3:\n",
        "        print('finish')\n",
        "        return False\n",
        "\n",
        "    #오른쪽확인\n",
        "    if y < 4:\n",
        "        if arr[x][y + 1] == 1:\n",
        "            start(x, y+1)\n",
        "\n",
        "    #아래쪽확인\n",
        "    if x <4:\n",
        "        if arr[x+1][y] == 1:\n",
        "            start(x+1, y)\n",
        "\n",
        "\n",
        "start(0, 0)\n"
      ],
      "metadata": {
        "colab": {
          "base_uri": "https://localhost:8080/",
          "height": 539
        },
        "id": "kFh9nuaJf3eF",
        "outputId": "122aabe6-93a0-4027-d108-0bec2cc95d0f"
      },
      "execution_count": null,
      "outputs": [
        {
          "output_type": "stream",
          "name": "stdout",
          "text": [
            "now 0, 0\n",
            "now 0, 1\n",
            "now 1, 1\n",
            "now 1, 2\n",
            "now 2, 1\n",
            "now 3, 1\n",
            "now 3, 2\n",
            "now 3, 3\n",
            "finish\n"
          ]
        },
        {
          "output_type": "error",
          "ename": "IndexError",
          "evalue": "ignored",
          "traceback": [
            "\u001b[0;31m---------------------------------------------------------------------------\u001b[0m",
            "\u001b[0;31mIndexError\u001b[0m                                Traceback (most recent call last)",
            "\u001b[0;32m<ipython-input-3-f9bab9c04d1e>\u001b[0m in \u001b[0;36m<cell line: 26>\u001b[0;34m()\u001b[0m\n\u001b[1;32m     24\u001b[0m \u001b[0;34m\u001b[0m\u001b[0m\n\u001b[1;32m     25\u001b[0m \u001b[0;34m\u001b[0m\u001b[0m\n\u001b[0;32m---> 26\u001b[0;31m \u001b[0mstart\u001b[0m\u001b[0;34m(\u001b[0m\u001b[0;36m0\u001b[0m\u001b[0;34m,\u001b[0m \u001b[0;36m0\u001b[0m\u001b[0;34m)\u001b[0m\u001b[0;34m\u001b[0m\u001b[0;34m\u001b[0m\u001b[0m\n\u001b[0m",
            "\u001b[0;32m<ipython-input-3-f9bab9c04d1e>\u001b[0m in \u001b[0;36mstart\u001b[0;34m(x, y)\u001b[0m\n\u001b[1;32m     16\u001b[0m     \u001b[0;32mif\u001b[0m \u001b[0my\u001b[0m \u001b[0;34m<\u001b[0m \u001b[0;36m4\u001b[0m\u001b[0;34m:\u001b[0m\u001b[0;34m\u001b[0m\u001b[0;34m\u001b[0m\u001b[0m\n\u001b[1;32m     17\u001b[0m         \u001b[0;32mif\u001b[0m \u001b[0marr\u001b[0m\u001b[0;34m[\u001b[0m\u001b[0mx\u001b[0m\u001b[0;34m]\u001b[0m\u001b[0;34m[\u001b[0m\u001b[0my\u001b[0m \u001b[0;34m+\u001b[0m \u001b[0;36m1\u001b[0m\u001b[0;34m]\u001b[0m \u001b[0;34m==\u001b[0m \u001b[0;36m1\u001b[0m\u001b[0;34m:\u001b[0m\u001b[0;34m\u001b[0m\u001b[0;34m\u001b[0m\u001b[0m\n\u001b[0;32m---> 18\u001b[0;31m             \u001b[0mstart\u001b[0m\u001b[0;34m(\u001b[0m\u001b[0mx\u001b[0m\u001b[0;34m,\u001b[0m \u001b[0my\u001b[0m\u001b[0;34m+\u001b[0m\u001b[0;36m1\u001b[0m\u001b[0;34m)\u001b[0m\u001b[0;34m\u001b[0m\u001b[0;34m\u001b[0m\u001b[0m\n\u001b[0m\u001b[1;32m     19\u001b[0m \u001b[0;34m\u001b[0m\u001b[0m\n\u001b[1;32m     20\u001b[0m     \u001b[0;31m#아래쪽확인\u001b[0m\u001b[0;34m\u001b[0m\u001b[0;34m\u001b[0m\u001b[0m\n",
            "\u001b[0;32m<ipython-input-3-f9bab9c04d1e>\u001b[0m in \u001b[0;36mstart\u001b[0;34m(x, y)\u001b[0m\n\u001b[1;32m     21\u001b[0m     \u001b[0;32mif\u001b[0m \u001b[0mx\u001b[0m \u001b[0;34m<\u001b[0m\u001b[0;36m4\u001b[0m\u001b[0;34m:\u001b[0m\u001b[0;34m\u001b[0m\u001b[0;34m\u001b[0m\u001b[0m\n\u001b[1;32m     22\u001b[0m         \u001b[0;32mif\u001b[0m \u001b[0marr\u001b[0m\u001b[0;34m[\u001b[0m\u001b[0mx\u001b[0m\u001b[0;34m+\u001b[0m\u001b[0;36m1\u001b[0m\u001b[0;34m]\u001b[0m\u001b[0;34m[\u001b[0m\u001b[0my\u001b[0m\u001b[0;34m]\u001b[0m \u001b[0;34m==\u001b[0m \u001b[0;36m1\u001b[0m\u001b[0;34m:\u001b[0m\u001b[0;34m\u001b[0m\u001b[0;34m\u001b[0m\u001b[0m\n\u001b[0;32m---> 23\u001b[0;31m             \u001b[0mstart\u001b[0m\u001b[0;34m(\u001b[0m\u001b[0mx\u001b[0m\u001b[0;34m+\u001b[0m\u001b[0;36m1\u001b[0m\u001b[0;34m,\u001b[0m \u001b[0my\u001b[0m\u001b[0;34m)\u001b[0m\u001b[0;34m\u001b[0m\u001b[0;34m\u001b[0m\u001b[0m\n\u001b[0m\u001b[1;32m     24\u001b[0m \u001b[0;34m\u001b[0m\u001b[0m\n\u001b[1;32m     25\u001b[0m \u001b[0;34m\u001b[0m\u001b[0m\n",
            "\u001b[0;32m<ipython-input-3-f9bab9c04d1e>\u001b[0m in \u001b[0;36mstart\u001b[0;34m(x, y)\u001b[0m\n\u001b[1;32m     21\u001b[0m     \u001b[0;32mif\u001b[0m \u001b[0mx\u001b[0m \u001b[0;34m<\u001b[0m\u001b[0;36m4\u001b[0m\u001b[0;34m:\u001b[0m\u001b[0;34m\u001b[0m\u001b[0;34m\u001b[0m\u001b[0m\n\u001b[1;32m     22\u001b[0m         \u001b[0;32mif\u001b[0m \u001b[0marr\u001b[0m\u001b[0;34m[\u001b[0m\u001b[0mx\u001b[0m\u001b[0;34m+\u001b[0m\u001b[0;36m1\u001b[0m\u001b[0;34m]\u001b[0m\u001b[0;34m[\u001b[0m\u001b[0my\u001b[0m\u001b[0;34m]\u001b[0m \u001b[0;34m==\u001b[0m \u001b[0;36m1\u001b[0m\u001b[0;34m:\u001b[0m\u001b[0;34m\u001b[0m\u001b[0;34m\u001b[0m\u001b[0m\n\u001b[0;32m---> 23\u001b[0;31m             \u001b[0mstart\u001b[0m\u001b[0;34m(\u001b[0m\u001b[0mx\u001b[0m\u001b[0;34m+\u001b[0m\u001b[0;36m1\u001b[0m\u001b[0;34m,\u001b[0m \u001b[0my\u001b[0m\u001b[0;34m)\u001b[0m\u001b[0;34m\u001b[0m\u001b[0;34m\u001b[0m\u001b[0m\n\u001b[0m\u001b[1;32m     24\u001b[0m \u001b[0;34m\u001b[0m\u001b[0m\n\u001b[1;32m     25\u001b[0m \u001b[0;34m\u001b[0m\u001b[0m\n",
            "\u001b[0;32m<ipython-input-3-f9bab9c04d1e>\u001b[0m in \u001b[0;36mstart\u001b[0;34m(x, y)\u001b[0m\n\u001b[1;32m     21\u001b[0m     \u001b[0;32mif\u001b[0m \u001b[0mx\u001b[0m \u001b[0;34m<\u001b[0m\u001b[0;36m4\u001b[0m\u001b[0;34m:\u001b[0m\u001b[0;34m\u001b[0m\u001b[0;34m\u001b[0m\u001b[0m\n\u001b[1;32m     22\u001b[0m         \u001b[0;32mif\u001b[0m \u001b[0marr\u001b[0m\u001b[0;34m[\u001b[0m\u001b[0mx\u001b[0m\u001b[0;34m+\u001b[0m\u001b[0;36m1\u001b[0m\u001b[0;34m]\u001b[0m\u001b[0;34m[\u001b[0m\u001b[0my\u001b[0m\u001b[0;34m]\u001b[0m \u001b[0;34m==\u001b[0m \u001b[0;36m1\u001b[0m\u001b[0;34m:\u001b[0m\u001b[0;34m\u001b[0m\u001b[0;34m\u001b[0m\u001b[0m\n\u001b[0;32m---> 23\u001b[0;31m             \u001b[0mstart\u001b[0m\u001b[0;34m(\u001b[0m\u001b[0mx\u001b[0m\u001b[0;34m+\u001b[0m\u001b[0;36m1\u001b[0m\u001b[0;34m,\u001b[0m \u001b[0my\u001b[0m\u001b[0;34m)\u001b[0m\u001b[0;34m\u001b[0m\u001b[0;34m\u001b[0m\u001b[0m\n\u001b[0m\u001b[1;32m     24\u001b[0m \u001b[0;34m\u001b[0m\u001b[0m\n\u001b[1;32m     25\u001b[0m \u001b[0;34m\u001b[0m\u001b[0m\n",
            "\u001b[0;32m<ipython-input-3-f9bab9c04d1e>\u001b[0m in \u001b[0;36mstart\u001b[0;34m(x, y)\u001b[0m\n\u001b[1;32m     16\u001b[0m     \u001b[0;32mif\u001b[0m \u001b[0my\u001b[0m \u001b[0;34m<\u001b[0m \u001b[0;36m4\u001b[0m\u001b[0;34m:\u001b[0m\u001b[0;34m\u001b[0m\u001b[0;34m\u001b[0m\u001b[0m\n\u001b[1;32m     17\u001b[0m         \u001b[0;32mif\u001b[0m \u001b[0marr\u001b[0m\u001b[0;34m[\u001b[0m\u001b[0mx\u001b[0m\u001b[0;34m]\u001b[0m\u001b[0;34m[\u001b[0m\u001b[0my\u001b[0m \u001b[0;34m+\u001b[0m \u001b[0;36m1\u001b[0m\u001b[0;34m]\u001b[0m \u001b[0;34m==\u001b[0m \u001b[0;36m1\u001b[0m\u001b[0;34m:\u001b[0m\u001b[0;34m\u001b[0m\u001b[0;34m\u001b[0m\u001b[0m\n\u001b[0;32m---> 18\u001b[0;31m             \u001b[0mstart\u001b[0m\u001b[0;34m(\u001b[0m\u001b[0mx\u001b[0m\u001b[0;34m,\u001b[0m \u001b[0my\u001b[0m\u001b[0;34m+\u001b[0m\u001b[0;36m1\u001b[0m\u001b[0;34m)\u001b[0m\u001b[0;34m\u001b[0m\u001b[0;34m\u001b[0m\u001b[0m\n\u001b[0m\u001b[1;32m     19\u001b[0m \u001b[0;34m\u001b[0m\u001b[0m\n\u001b[1;32m     20\u001b[0m     \u001b[0;31m#아래쪽확인\u001b[0m\u001b[0;34m\u001b[0m\u001b[0;34m\u001b[0m\u001b[0m\n",
            "\u001b[0;32m<ipython-input-3-f9bab9c04d1e>\u001b[0m in \u001b[0;36mstart\u001b[0;34m(x, y)\u001b[0m\n\u001b[1;32m     20\u001b[0m     \u001b[0;31m#아래쪽확인\u001b[0m\u001b[0;34m\u001b[0m\u001b[0;34m\u001b[0m\u001b[0m\n\u001b[1;32m     21\u001b[0m     \u001b[0;32mif\u001b[0m \u001b[0mx\u001b[0m \u001b[0;34m<\u001b[0m\u001b[0;36m4\u001b[0m\u001b[0;34m:\u001b[0m\u001b[0;34m\u001b[0m\u001b[0;34m\u001b[0m\u001b[0m\n\u001b[0;32m---> 22\u001b[0;31m         \u001b[0;32mif\u001b[0m \u001b[0marr\u001b[0m\u001b[0;34m[\u001b[0m\u001b[0mx\u001b[0m\u001b[0;34m+\u001b[0m\u001b[0;36m1\u001b[0m\u001b[0;34m]\u001b[0m\u001b[0;34m[\u001b[0m\u001b[0my\u001b[0m\u001b[0;34m]\u001b[0m \u001b[0;34m==\u001b[0m \u001b[0;36m1\u001b[0m\u001b[0;34m:\u001b[0m\u001b[0;34m\u001b[0m\u001b[0;34m\u001b[0m\u001b[0m\n\u001b[0m\u001b[1;32m     23\u001b[0m             \u001b[0mstart\u001b[0m\u001b[0;34m(\u001b[0m\u001b[0mx\u001b[0m\u001b[0;34m+\u001b[0m\u001b[0;36m1\u001b[0m\u001b[0;34m,\u001b[0m \u001b[0my\u001b[0m\u001b[0;34m)\u001b[0m\u001b[0;34m\u001b[0m\u001b[0;34m\u001b[0m\u001b[0m\n\u001b[1;32m     24\u001b[0m \u001b[0;34m\u001b[0m\u001b[0m\n",
            "\u001b[0;31mIndexError\u001b[0m: list index out of range"
          ]
        }
      ]
    },
    {
      "cell_type": "code",
      "source": [
        "#import => 만들어져있는 라이브러리를 갖고 오는 것\n",
        "# as키워드를 이용하여 별칭으로 부를 수 있음.\n",
        "import random as rd\n",
        "\n",
        "n = rd.randint(1,10)\n",
        "print(n)\n",
        "\n",
        "names = ['lee','park','choi', 'hong']\n",
        "rd.shuffle(names) #names가 변경이 됨\n",
        "print(names)"
      ],
      "metadata": {
        "colab": {
          "base_uri": "https://localhost:8080/"
        },
        "id": "wmqVfdLddwNu",
        "outputId": "7a6941f8-f8f9-451a-fdba-b7b8b62ece09"
      },
      "execution_count": null,
      "outputs": [
        {
          "output_type": "stream",
          "name": "stdout",
          "text": [
            "10\n",
            "['lee', 'choi', 'park', 'hong']\n"
          ]
        }
      ]
    },
    {
      "cell_type": "code",
      "source": [
        "#pypi.org\n",
        "!pip install gTTS\n",
        "!pip install playsound\n",
        "\n",
        "#gtts라이브러리 중 gTTS만 갖고오기\n",
        "from gtts import gTTS\n",
        "import playsound\n",
        "\n",
        "msg = 'my name is sungil information high school!'\n",
        "\n",
        "tts = gTTS(msg)#msg를 읽기\n",
        "tts.save('hello.mp3') # hello.mp3 저장하기\n",
        "playsound.playsound('hello.mp3')  #hello.mp3 재생하기"
      ],
      "metadata": {
        "colab": {
          "base_uri": "https://localhost:8080/",
          "height": 557
        },
        "id": "cTt2R7NSfRUy",
        "outputId": "145598d9-a258-4657-da47-b6050ee295bb"
      },
      "execution_count": null,
      "outputs": [
        {
          "output_type": "stream",
          "name": "stdout",
          "text": [
            "Requirement already satisfied: gTTS in /usr/local/lib/python3.10/dist-packages (2.4.0)\n",
            "Requirement already satisfied: requests<3,>=2.27 in /usr/local/lib/python3.10/dist-packages (from gTTS) (2.31.0)\n",
            "Requirement already satisfied: click<8.2,>=7.1 in /usr/local/lib/python3.10/dist-packages (from gTTS) (8.1.7)\n",
            "Requirement already satisfied: charset-normalizer<4,>=2 in /usr/local/lib/python3.10/dist-packages (from requests<3,>=2.27->gTTS) (3.3.0)\n",
            "Requirement already satisfied: idna<4,>=2.5 in /usr/local/lib/python3.10/dist-packages (from requests<3,>=2.27->gTTS) (3.4)\n",
            "Requirement already satisfied: urllib3<3,>=1.21.1 in /usr/local/lib/python3.10/dist-packages (from requests<3,>=2.27->gTTS) (2.0.6)\n",
            "Requirement already satisfied: certifi>=2017.4.17 in /usr/local/lib/python3.10/dist-packages (from requests<3,>=2.27->gTTS) (2023.7.22)\n",
            "Requirement already satisfied: playsound in /usr/local/lib/python3.10/dist-packages (1.3.0)\n"
          ]
        },
        {
          "output_type": "error",
          "ename": "CalledProcessError",
          "evalue": "ignored",
          "traceback": [
            "\u001b[0;31m---------------------------------------------------------------------------\u001b[0m",
            "\u001b[0;31mCalledProcessError\u001b[0m                        Traceback (most recent call last)",
            "\u001b[0;32m<ipython-input-9-a0c194f02b8c>\u001b[0m in \u001b[0;36m<cell line: 13>\u001b[0;34m()\u001b[0m\n\u001b[1;32m     11\u001b[0m \u001b[0mtts\u001b[0m \u001b[0;34m=\u001b[0m \u001b[0mgTTS\u001b[0m\u001b[0;34m(\u001b[0m\u001b[0mmsg\u001b[0m\u001b[0;34m)\u001b[0m\u001b[0;31m#msg를 읽기\u001b[0m\u001b[0;34m\u001b[0m\u001b[0;34m\u001b[0m\u001b[0m\n\u001b[1;32m     12\u001b[0m \u001b[0mtts\u001b[0m\u001b[0;34m.\u001b[0m\u001b[0msave\u001b[0m\u001b[0;34m(\u001b[0m\u001b[0;34m'hello.mp3'\u001b[0m\u001b[0;34m)\u001b[0m \u001b[0;31m# hello.mp3 저장하기\u001b[0m\u001b[0;34m\u001b[0m\u001b[0;34m\u001b[0m\u001b[0m\n\u001b[0;32m---> 13\u001b[0;31m \u001b[0mplaysound\u001b[0m\u001b[0;34m.\u001b[0m\u001b[0mplaysound\u001b[0m\u001b[0;34m(\u001b[0m\u001b[0;34m'hello.mp3'\u001b[0m\u001b[0;34m)\u001b[0m  \u001b[0;31m#hello.mp3 재생하기\u001b[0m\u001b[0;34m\u001b[0m\u001b[0;34m\u001b[0m\u001b[0m\n\u001b[0m\u001b[1;32m     14\u001b[0m \u001b[0;34m\u001b[0m\u001b[0m\n\u001b[1;32m     15\u001b[0m \u001b[0;34m\u001b[0m\u001b[0m\n",
            "\u001b[0;32m/usr/local/lib/python3.10/dist-packages/playsound.py\u001b[0m in \u001b[0;36m<lambda>\u001b[0;34m(sound, block)\u001b[0m\n\u001b[1;32m    252\u001b[0m         \u001b[0;32mexcept\u001b[0m\u001b[0;34m:\u001b[0m\u001b[0;34m\u001b[0m\u001b[0;34m\u001b[0m\u001b[0m\n\u001b[1;32m    253\u001b[0m             \u001b[0mlogger\u001b[0m\u001b[0;34m.\u001b[0m\u001b[0mwarning\u001b[0m\u001b[0;34m(\u001b[0m\u001b[0;34m\"playsound is relying on another python subprocess. Please use `pip install pygobject` if you want playsound to run more efficiently.\"\u001b[0m\u001b[0;34m)\u001b[0m\u001b[0;34m\u001b[0m\u001b[0;34m\u001b[0m\u001b[0m\n\u001b[0;32m--> 254\u001b[0;31m             \u001b[0mplaysound\u001b[0m \u001b[0;34m=\u001b[0m \u001b[0;32mlambda\u001b[0m \u001b[0msound\u001b[0m\u001b[0;34m,\u001b[0m \u001b[0mblock\u001b[0m \u001b[0;34m=\u001b[0m \u001b[0;32mTrue\u001b[0m\u001b[0;34m:\u001b[0m \u001b[0m_playsoundAnotherPython\u001b[0m\u001b[0;34m(\u001b[0m\u001b[0;34m'/usr/bin/python3'\u001b[0m\u001b[0;34m,\u001b[0m \u001b[0msound\u001b[0m\u001b[0;34m,\u001b[0m \u001b[0mblock\u001b[0m\u001b[0;34m,\u001b[0m \u001b[0mmacOS\u001b[0m \u001b[0;34m=\u001b[0m \u001b[0;32mFalse\u001b[0m\u001b[0;34m)\u001b[0m\u001b[0;34m\u001b[0m\u001b[0;34m\u001b[0m\u001b[0m\n\u001b[0m\u001b[1;32m    255\u001b[0m \u001b[0;34m\u001b[0m\u001b[0m\n\u001b[1;32m    256\u001b[0m \u001b[0;32mdel\u001b[0m \u001b[0msystem\u001b[0m\u001b[0;34m\u001b[0m\u001b[0;34m\u001b[0m\u001b[0m\n",
            "\u001b[0;32m/usr/local/lib/python3.10/dist-packages/playsound.py\u001b[0m in \u001b[0;36m_playsoundAnotherPython\u001b[0;34m(otherPython, sound, block, macOS)\u001b[0m\n\u001b[1;32m    227\u001b[0m     \u001b[0mt\u001b[0m\u001b[0;34m.\u001b[0m\u001b[0mstart\u001b[0m\u001b[0;34m(\u001b[0m\u001b[0;34m)\u001b[0m\u001b[0;34m\u001b[0m\u001b[0;34m\u001b[0m\u001b[0m\n\u001b[1;32m    228\u001b[0m     \u001b[0;32mif\u001b[0m \u001b[0mblock\u001b[0m\u001b[0;34m:\u001b[0m\u001b[0;34m\u001b[0m\u001b[0;34m\u001b[0m\u001b[0m\n\u001b[0;32m--> 229\u001b[0;31m         \u001b[0mt\u001b[0m\u001b[0;34m.\u001b[0m\u001b[0mjoin\u001b[0m\u001b[0;34m(\u001b[0m\u001b[0;34m)\u001b[0m\u001b[0;34m\u001b[0m\u001b[0;34m\u001b[0m\u001b[0m\n\u001b[0m\u001b[1;32m    230\u001b[0m \u001b[0;34m\u001b[0m\u001b[0m\n\u001b[1;32m    231\u001b[0m \u001b[0;32mfrom\u001b[0m \u001b[0mplatform\u001b[0m \u001b[0;32mimport\u001b[0m \u001b[0msystem\u001b[0m\u001b[0;34m\u001b[0m\u001b[0;34m\u001b[0m\u001b[0m\n",
            "\u001b[0;32m/usr/local/lib/python3.10/dist-packages/playsound.py\u001b[0m in \u001b[0;36mjoin\u001b[0;34m(self, timeout)\u001b[0m\n\u001b[1;32m    216\u001b[0m             \u001b[0msuper\u001b[0m\u001b[0;34m(\u001b[0m\u001b[0;34m)\u001b[0m\u001b[0;34m.\u001b[0m\u001b[0mjoin\u001b[0m\u001b[0;34m(\u001b[0m\u001b[0mtimeout\u001b[0m\u001b[0;34m)\u001b[0m\u001b[0;34m\u001b[0m\u001b[0;34m\u001b[0m\u001b[0m\n\u001b[1;32m    217\u001b[0m             \u001b[0;32mif\u001b[0m \u001b[0mself\u001b[0m\u001b[0;34m.\u001b[0m\u001b[0mexc\u001b[0m\u001b[0;34m:\u001b[0m\u001b[0;34m\u001b[0m\u001b[0;34m\u001b[0m\u001b[0m\n\u001b[0;32m--> 218\u001b[0;31m                 \u001b[0;32mraise\u001b[0m \u001b[0mself\u001b[0m\u001b[0;34m.\u001b[0m\u001b[0mexc\u001b[0m\u001b[0;34m\u001b[0m\u001b[0;34m\u001b[0m\u001b[0m\n\u001b[0m\u001b[1;32m    219\u001b[0m             \u001b[0;32mreturn\u001b[0m \u001b[0mself\u001b[0m\u001b[0;34m.\u001b[0m\u001b[0mret\u001b[0m\u001b[0;34m\u001b[0m\u001b[0;34m\u001b[0m\u001b[0m\n\u001b[1;32m    220\u001b[0m \u001b[0;34m\u001b[0m\u001b[0m\n",
            "\u001b[0;32m/usr/local/lib/python3.10/dist-packages/playsound.py\u001b[0m in \u001b[0;36mrun\u001b[0;34m(self)\u001b[0m\n\u001b[1;32m    209\u001b[0m             \u001b[0mself\u001b[0m\u001b[0;34m.\u001b[0m\u001b[0mexc\u001b[0m \u001b[0;34m=\u001b[0m \u001b[0;32mNone\u001b[0m\u001b[0;34m\u001b[0m\u001b[0;34m\u001b[0m\u001b[0m\n\u001b[1;32m    210\u001b[0m             \u001b[0;32mtry\u001b[0m\u001b[0;34m:\u001b[0m\u001b[0;34m\u001b[0m\u001b[0;34m\u001b[0m\u001b[0m\n\u001b[0;32m--> 211\u001b[0;31m                 \u001b[0mself\u001b[0m\u001b[0;34m.\u001b[0m\u001b[0mret\u001b[0m \u001b[0;34m=\u001b[0m \u001b[0mself\u001b[0m\u001b[0;34m.\u001b[0m\u001b[0m_target\u001b[0m\u001b[0;34m(\u001b[0m\u001b[0;34m*\u001b[0m\u001b[0mself\u001b[0m\u001b[0;34m.\u001b[0m\u001b[0m_args\u001b[0m\u001b[0;34m,\u001b[0m \u001b[0;34m**\u001b[0m\u001b[0mself\u001b[0m\u001b[0;34m.\u001b[0m\u001b[0m_kwargs\u001b[0m\u001b[0;34m)\u001b[0m\u001b[0;34m\u001b[0m\u001b[0;34m\u001b[0m\u001b[0m\n\u001b[0m\u001b[1;32m    212\u001b[0m             \u001b[0;32mexcept\u001b[0m \u001b[0mBaseException\u001b[0m \u001b[0;32mas\u001b[0m \u001b[0me\u001b[0m\u001b[0;34m:\u001b[0m\u001b[0;34m\u001b[0m\u001b[0;34m\u001b[0m\u001b[0m\n\u001b[1;32m    213\u001b[0m                 \u001b[0mself\u001b[0m\u001b[0;34m.\u001b[0m\u001b[0mexc\u001b[0m \u001b[0;34m=\u001b[0m \u001b[0me\u001b[0m\u001b[0;34m\u001b[0m\u001b[0;34m\u001b[0m\u001b[0m\n",
            "\u001b[0;32m/usr/local/lib/python3.10/dist-packages/playsound.py\u001b[0m in \u001b[0;36m<lambda>\u001b[0;34m()\u001b[0m\n\u001b[1;32m    224\u001b[0m \u001b[0;34m\u001b[0m\u001b[0m\n\u001b[1;32m    225\u001b[0m     \u001b[0mplaysoundPath\u001b[0m \u001b[0;34m=\u001b[0m \u001b[0mabspath\u001b[0m\u001b[0;34m(\u001b[0m\u001b[0mgetsourcefile\u001b[0m\u001b[0;34m(\u001b[0m\u001b[0;32mlambda\u001b[0m\u001b[0;34m:\u001b[0m \u001b[0;36m0\u001b[0m\u001b[0;34m)\u001b[0m\u001b[0;34m)\u001b[0m\u001b[0;34m\u001b[0m\u001b[0;34m\u001b[0m\u001b[0m\n\u001b[0;32m--> 226\u001b[0;31m     \u001b[0mt\u001b[0m \u001b[0;34m=\u001b[0m \u001b[0mPropogatingThread\u001b[0m\u001b[0;34m(\u001b[0m\u001b[0mtarget\u001b[0m \u001b[0;34m=\u001b[0m \u001b[0;32mlambda\u001b[0m\u001b[0;34m:\u001b[0m \u001b[0mcheck_call\u001b[0m\u001b[0;34m(\u001b[0m\u001b[0;34m[\u001b[0m\u001b[0motherPython\u001b[0m\u001b[0;34m,\u001b[0m \u001b[0mplaysoundPath\u001b[0m\u001b[0;34m,\u001b[0m \u001b[0m_handlePathOSX\u001b[0m\u001b[0;34m(\u001b[0m\u001b[0msound\u001b[0m\u001b[0;34m)\u001b[0m \u001b[0;32mif\u001b[0m \u001b[0mmacOS\u001b[0m \u001b[0;32melse\u001b[0m \u001b[0msound\u001b[0m\u001b[0;34m]\u001b[0m\u001b[0;34m)\u001b[0m\u001b[0;34m)\u001b[0m\u001b[0;34m\u001b[0m\u001b[0;34m\u001b[0m\u001b[0m\n\u001b[0m\u001b[1;32m    227\u001b[0m     \u001b[0mt\u001b[0m\u001b[0;34m.\u001b[0m\u001b[0mstart\u001b[0m\u001b[0;34m(\u001b[0m\u001b[0;34m)\u001b[0m\u001b[0;34m\u001b[0m\u001b[0;34m\u001b[0m\u001b[0m\n\u001b[1;32m    228\u001b[0m     \u001b[0;32mif\u001b[0m \u001b[0mblock\u001b[0m\u001b[0;34m:\u001b[0m\u001b[0;34m\u001b[0m\u001b[0;34m\u001b[0m\u001b[0m\n",
            "\u001b[0;32m/usr/lib/python3.10/subprocess.py\u001b[0m in \u001b[0;36mcheck_call\u001b[0;34m(*popenargs, **kwargs)\u001b[0m\n\u001b[1;32m    367\u001b[0m         \u001b[0;32mif\u001b[0m \u001b[0mcmd\u001b[0m \u001b[0;32mis\u001b[0m \u001b[0;32mNone\u001b[0m\u001b[0;34m:\u001b[0m\u001b[0;34m\u001b[0m\u001b[0;34m\u001b[0m\u001b[0m\n\u001b[1;32m    368\u001b[0m             \u001b[0mcmd\u001b[0m \u001b[0;34m=\u001b[0m \u001b[0mpopenargs\u001b[0m\u001b[0;34m[\u001b[0m\u001b[0;36m0\u001b[0m\u001b[0;34m]\u001b[0m\u001b[0;34m\u001b[0m\u001b[0;34m\u001b[0m\u001b[0m\n\u001b[0;32m--> 369\u001b[0;31m         \u001b[0;32mraise\u001b[0m \u001b[0mCalledProcessError\u001b[0m\u001b[0;34m(\u001b[0m\u001b[0mretcode\u001b[0m\u001b[0;34m,\u001b[0m \u001b[0mcmd\u001b[0m\u001b[0;34m)\u001b[0m\u001b[0;34m\u001b[0m\u001b[0;34m\u001b[0m\u001b[0m\n\u001b[0m\u001b[1;32m    370\u001b[0m     \u001b[0;32mreturn\u001b[0m \u001b[0;36m0\u001b[0m\u001b[0;34m\u001b[0m\u001b[0;34m\u001b[0m\u001b[0m\n\u001b[1;32m    371\u001b[0m \u001b[0;34m\u001b[0m\u001b[0m\n",
            "\u001b[0;31mCalledProcessError\u001b[0m: Command '['/usr/bin/python3', '/usr/local/lib/python3.10/dist-packages/playsound.py', 'hello.mp3']' returned non-zero exit status 1."
          ]
        }
      ]
    },
    {
      "cell_type": "code",
      "source": [
        "import requests\n",
        "\n",
        "def getRank(targetDt):\n",
        "    url = 'https://kobis.or.kr/kobisopenapi/webservice/rest/boxoffice/searchDailyBoxOfficeList.json?key=f5eef3421c602c6cb7ea224104795888&targetDt='+targetDt\n",
        "    # url = 'https://kobis.or.kr/kobisopenapi/webservice/rest/boxoffice/searchDailyBoxOfficeList.json'\n",
        "    # params = {\n",
        "    #     'key' : '키값',\n",
        "    #     'targetDt' : dt\n",
        "    # }\n",
        "    #어떻게 웹에 접속하지??\n",
        "    response = requests.get(url)\n",
        "    if response.status_code == 200:\n",
        "        try: #시도해보고 잘 되면 이거 하고\n",
        "            result = response.json()\n",
        "            return result['boxOfficeResult']['dailyBoxOfficeList']\n",
        "        except: #try에서 오류가 발생하면 이쪽으로\n",
        "            return []\n",
        "    else:\n",
        "        return [] #접속에 실패한 경우\n",
        "\n",
        "dt = input('날짜 yyyymmdd')\n",
        "movies = getRank(dt)  #제대로된 10개 리스트 또는 빈리스트\n",
        "if len(movies) == 0:\n",
        "    print('값이 없습니다.')\n",
        "else:\n",
        "    for movie in movies: #movies 10개의 영화 정보\n",
        "        print(movie['movieNm'])\n",
        "\n"
      ],
      "metadata": {
        "id": "RVPrZYC0uBJa"
      },
      "execution_count": null,
      "outputs": []
    }
  ],
  "metadata": {
    "colab": {
      "provenance": [],
      "include_colab_link": true
    },
    "kernelspec": {
      "display_name": "Python 3",
      "name": "python3"
    },
    "language_info": {
      "name": "python"
    }
  },
  "nbformat": 4,
  "nbformat_minor": 0
}